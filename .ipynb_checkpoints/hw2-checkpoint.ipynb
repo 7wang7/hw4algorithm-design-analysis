{
 "cells": [
  {
   "cell_type": "markdown",
   "metadata": {},
   "source": [
    "## algorithm design and anlysis-2025 spring  homework 2\n",
    "**Deadline**：2025.5.14\n",
    "\n",
    "**name**:王俊秀112024321341987\n",
    "\n",
    "\n",
    "note：\n",
    "---\n",
    "1. 带有\\*的题目，申请免上课的同学，必须完成，其他同学选作；\n",
    "2. 请独立完成，如求助了他人或者大模型，请著明，并且不可省略算法分析部分；\n",
    "4. 如若作答有雷同，全部取消成绩；\n",
    "3. 需要书面作答的题目，可以通过引用图片的形式添加，但是注意上传项目时包含所引用的图片的源文件；\n",
    "4. $log_n$ 默认表示$log_2{n}$;"
   ]
  },
  {
   "cell_type": "markdown",
   "metadata": {},
   "source": [
    "## 问题 1  \n",
    "\n",
    "> 给定一个已排序的链表的头 `head` ， *删除所有重复的元素，使每个元素只出现一次* 。返回 *已排序的链表* 。链表的类如下所示：\n",
    "\n",
    "```python\n",
    "class NodeList:\n",
    "    def __init__(self, val=None, right=None):\n",
    "        self.val   = val\n",
    "        self.right = right\n",
    "```\n",
    "\n",
    "输入是一个数组，你首先需要将数组转化为链表，然后删除链表中的重复元素，再遍历链表元素，以一个数组的形式返回。请设计一个算法解决上述任务，分析算法设计思路，计算时间复杂度, 并基于python编程实现。\n",
    "\n",
    "e.g.  输入：head=[1, 1, 2, 3, 3]   输出：[1, 2, 3]\n",
    "\n",
    "![image-20240502110020439](./fig/hw2q1.png)\n",
    "\n"
   ]
  },
  {
   "cell_type": "markdown",
   "metadata": {},
   "source": [
    "idea：\n",
    "1.将数组转换为链表：遍历数组，依次创建节点并连接。\n",
    "2.删除重复元素：使用一个指针遍历链表，若当前节点的值等于下一个节点的值，则跳过下一个节点；否则移动指针到下一个节点。\n",
    "3.将链表转换回数组：遍历处理后的链表，收集节点值到数组中。"
   ]
  },
  {
   "cell_type": "code",
   "execution_count": 3,
   "metadata": {},
   "outputs": [
    {
     "name": "stdout",
     "output_type": "stream",
     "text": [
      "输入: [1, 1, 2, 3, 3]\n",
      "输出: [1, 2, 3]\n"
     ]
    }
   ],
   "source": [
    "# add your idea here\n",
    "# your algorithm time complexity is:O(n)\n",
    "class Trans:\n",
    "    def __init__(self, val=None, right=None):\n",
    "        self.val = val\n",
    "        self.right = right\n",
    "\n",
    "def translist(arr):\n",
    "    dummy = Trans()\n",
    "    current = dummy\n",
    "    for val in arr:\n",
    "        current.right = Trans(val)\n",
    "        current = current.right\n",
    "    return dummy.right\n",
    "\n",
    "def transarray(head):\n",
    "    result = []\n",
    "    current = head\n",
    "    while current:\n",
    "        result.append(current.val)\n",
    "        current = current.right\n",
    "    return result\n",
    "\n",
    "def remove(head):\n",
    "    current = head\n",
    "    while current and current.right:\n",
    "        if current.val == current.right.val:\n",
    "            current.right = current.right.right\n",
    "        else:\n",
    "            current = current.right\n",
    "    return head\n",
    "\n",
    "def main(arr):\n",
    "    head = translist(arr)\n",
    "    head = remove(head)\n",
    "    return transarray(head)\n",
    "\n",
    "arr = [1, 1, 2, 3, 3]\n",
    "print(\"输入:\", arr)\n",
    "print(\"输出:\", main(arr))"
   ]
  },
  {
   "cell_type": "markdown",
   "metadata": {},
   "source": [
    "## 问题 2  \n",
    "\n",
    "> 下面是一个经典的算法问题：\n",
    ">\n",
    "> - 给定包含n个整数的一个整数数组 `nums` 和一个整数目标值 `target`，请你在该数组中找出 **和为目标值** *`target`* 的那 **两个** 整数，并返回它们的**数组下标**。假设每种输入只会对应一个答案。但是，数组中同一个元素在答案里不能重复出现。你可以按任意顺序返回答案。\n",
    ">\n",
    "> 由于要多次查找数组中元素的位置，为了提高查询效率可以使用哈希表来存储数组中的数据，在哈希表中查询一个元素的复杂度为O(1)。 已知python中的字典是使用哈希表实现的，即使用`dict[key]`查询对应的value时间复杂度为O(1), python提供了查询字典是否包含某个key的功能：`key in dict`，时间复杂度也是O(1)\n",
    "\n",
    "请根据上面信息，设计一个时间复杂度为O(n) 的算法，解决上述算法问题\n",
    "\n",
    "e.g.   \n",
    "\n",
    "输入：nums=[2,7,11,15], target=9， 输出：[0，1]\n",
    "\n",
    "输入：nums=[3,2,4], target=6, 输出：[1,2]\n",
    "\n",
    "输入：nums=[3,3], target=6,  输出：[0,1]\n"
   ]
  },
  {
   "cell_type": "code",
   "execution_count": 4,
   "metadata": {},
   "outputs": [
    {
     "name": "stdout",
     "output_type": "stream",
     "text": [
      "输入: [2, 7, 11, 15] target: 9\n",
      "输出: [0, 1]\n",
      "输入: [3, 2, 4] target: 6\n",
      "输出: [1, 2]\n",
      "输入: [3, 3] target: 6\n",
      "输出: [0, 1]\n"
     ]
    }
   ],
   "source": [
    "# add your idea here\n",
    "# your algorithm time complexity is: O(n)\n",
    "def find(nums, target):\n",
    "    num_dict = {}\n",
    "\n",
    "    for i, num in enumerate(nums):\n",
    "        complement = target - num\n",
    "        if complement in num_dict:\n",
    "            return [num_dict[complement], i]\n",
    "        num_dict[num] = i\n",
    "    return []\n",
    "\n",
    "\n",
    "nums = [2, 7, 11, 15]\n",
    "target = 9\n",
    "print(\"输入:\", nums, \"target:\", target)\n",
    "print(\"输出:\", find(nums, target))\n",
    "\n",
    "nums = [3, 2, 4]\n",
    "target = 6\n",
    "print(\"输入:\", nums, \"target:\", target)\n",
    "print(\"输出:\", find(nums, target))\n",
    "\n",
    "nums = [3, 3]\n",
    "target = 6\n",
    "print(\"输入:\", nums, \"target:\", target)\n",
    "print(\"输出:\", find(nums, target))"
   ]
  },
  {
   "cell_type": "markdown",
   "metadata": {},
   "source": [
    "## 问题 3:   \n",
    "\n",
    "> 栈是一种常用的数据结构，编译器中通常使用栈来实现表达式求值。\n",
    ">\n",
    "> 以表达式 $3+5 \\times 8-6$​ 为例。编译器使用两个栈来完成运算，即一个栈保持操作数，另一个栈保存运算符。\n",
    ">\n",
    "> 1. 从左向右遍历表达式，遇到数字就压入操作数栈；\n",
    ">\n",
    "> 2. 遇到运算符，就与运算符栈的栈顶元素进行比较。如果比运算符栈顶元素的优先级高，就将当前运算符压入栈；如果比运算符栈顶元素的优先级低或者相同，从运算符栈中取栈顶运算符，从操作数栈的栈顶取 2 个操作数，然后进行计算，再把计算完的结果压入操作数栈，继续比较。\n",
    ">\n",
    "> 下图是 $3+5 \\times 8-6$  这个表达式的计算过程：\n",
    "\n",
    "![figure](./fig/hw2q3.png)\n",
    "\n",
    "根据上述原理，请设计一个算法完成表达式的运算，当输入为表达式字符串，返回对应的计算结果。分析算法设计思路，计算时间复杂度，并基于python编程实现\n",
    "\n",
    "**note：**\n",
    "\n",
    "1. 假设输入的表达式只会出现加（“+”），减 “-”， 乘“*”，除 “/” 四个运算符, 表达式中只会出现正整数\n",
    "2. python中` str.isdigit()`函数可以判断字符串str是否为数字，\n",
    "\n",
    "\n",
    "\n",
    "e.g. :\n",
    "---\n",
    "\n",
    "1. 输入：“$3+5 * 8 -6$”   输出：37\n",
    "\n",
    "2. 输入：“$34+13*9 + 44-12/3$”  输出：191"
   ]
  },
  {
   "cell_type": "markdown",
   "metadata": {},
   "source": [
    "idea：\n",
    "1.把输入按数字和运算符分割成 tokens 列表。\n",
    "2.定义运算符优先级：乘除优先级高于加减。\n",
    "3.遍历，遇到数字：直接压入操作数栈。遇到运算符：比较与运算符栈顶元素的优先级，处理高优先级运算后再压入栈。\n",
    "4.遍历结束，处理运算符栈中剩余的运算符。"
   ]
  },
  {
   "cell_type": "code",
   "execution_count": 5,
   "metadata": {},
   "outputs": [
    {
     "name": "stdout",
     "output_type": "stream",
     "text": [
      "输入: 3+5*8-6\n",
      "输出: 37\n",
      "输入: 34+13*9+44-12/3\n",
      "输出: 191\n"
     ]
    }
   ],
   "source": [
    "# add your idea here\n",
    "# your algorithm time complexity is: O(n)\n",
    "def solution(s):\n",
    "    tokens = []\n",
    "    current_num = \"\"\n",
    "    for c in s:\n",
    "        if c.isdigit():\n",
    "            current_num += c\n",
    "        else:\n",
    "            if current_num:\n",
    "                tokens.append(current_num)\n",
    "                current_num = \"\"\n",
    "            if c.strip():\n",
    "                tokens.append(c)\n",
    "    if current_num:\n",
    "        tokens.append(current_num)\n",
    "\n",
    "    precedence = {\n",
    "        '+': 1,\n",
    "        '-': 1,\n",
    "        '*': 2,\n",
    "        '/': 2\n",
    "    }\n",
    "\n",
    "    numbers = []\n",
    "    operators = []\n",
    "\n",
    "    for token in tokens:\n",
    "        if token.isdigit():\n",
    "            numbers.append(int(token))\n",
    "        else:\n",
    "            while (operators and operators[-1] != '(' and\n",
    "                   precedence[token] <= precedence[operators[-1]]):\n",
    "                op = operators.pop()\n",
    "                b = numbers.pop()\n",
    "                a = numbers.pop()\n",
    "                numbers.append(count(a, b, op))\n",
    "            operators.append(token)\n",
    "\n",
    "    while operators:\n",
    "        op = operators.pop()\n",
    "        b = numbers.pop()\n",
    "        a = numbers.pop()\n",
    "        numbers.append(count(a, b, op))\n",
    "\n",
    "    return numbers[0]\n",
    "\n",
    "\n",
    "def count(a, b, op):\n",
    "    if op == '+':\n",
    "        return a + b\n",
    "    elif op == '-':\n",
    "        return a - b\n",
    "    elif op == '*':\n",
    "        return a * b\n",
    "    elif op == '/':\n",
    "        return a // b\n",
    "\n",
    "\n",
    "expression = \"3+5*8-6\"\n",
    "print(\"输入:\", expression)\n",
    "print(\"输出:\", solution(expression))\n",
    "\n",
    "expression = \"34+13*9+44-12/3\"\n",
    "print(\"输入:\", expression)\n",
    "print(\"输出:\", solution(expression))"
   ]
  },
  {
   "cell_type": "markdown",
   "metadata": {},
   "source": [
    "## 问题 4:  \n",
    "\n",
    "> 星球碰撞问题：现有n个星球，在同一条直线上运行，如数组A所示，元素的绝对值表示星球的质量，负数表示星球自右向左运动，正数表示星球自左向右运动，当两个星球相撞的时候，质量小的会消失，大的保持不变，**质量相同的两个星球碰撞后自右向左运动的星球消失，自左向右的星球保持不变**，假设所有星球的速度大小相同。\n",
    ">\n",
    "> $ A=[23,-8, 9, -3, -7, 9, -23, 22] $\n",
    "\n",
    "请设计一个算法模拟星球的运行情况，输出最终的星球存续情况（输出一个数组），分析算法设计思路，计算时间复杂度，并基于python编程实现。\n",
    "\n",
    "e.g.\n",
    "---\n",
    "1.  输入： A=[-3,-6,2,8, 5,-8,9,-2,1]， 输出：[-3, -6, 2, 8, 9, 1]\n",
    "\n",
    "2. 输入：A=[23,-8, 9, -3, -7, 9, -23, 22], 输出：[23, 22]\n",
    "\n"
   ]
  },
  {
   "cell_type": "markdown",
   "metadata": {},
   "source": [
    "idea：\n",
    "遍历每个星球，栈为空时直接入栈，同向运动（同为正或同为负）或背向运动（右负左正）则不会碰撞，当前星球向左运动，栈顶星球向右，比较质量，当前的质量大则栈顶出栈，再次比较，如果栈为空或者栈顶为负，则把当前星球入栈。栈顶的质量大或者相同则不做任何操作。"
   ]
  },
  {
   "cell_type": "code",
   "execution_count": 6,
   "metadata": {},
   "outputs": [
    {
     "name": "stdout",
     "output_type": "stream",
     "text": [
      "输入： [-3, -6, 2, 8, 5, -8, 9, -2, 1]\n",
      "输出： [-3, -6, 2, 8, 9, 1]\n",
      "输入： [23, -8, 9, -3, -7, 9, -23, 22]\n",
      "输出： [23, 22]\n"
     ]
    }
   ],
   "source": [
    "# add your idea here\n",
    "# your algorithm time complexity is:O (n)\n",
    "def collision(arr):\n",
    "    stack = []\n",
    "    for num in arr:\n",
    "        if not stack:\n",
    "            stack.append(num)\n",
    "        elif num * stack[-1] > 0 or (num > 0 and stack[-1] < 0):\n",
    "            stack.append(num)\n",
    "        elif num < 0 and stack[-1] > 0:\n",
    "            while (stack and abs(num) > stack[-1] and stack[-1]>0):\n",
    "                    stack.pop()\n",
    "            if not stack or stack[-1]<0:\n",
    "                stack.append(num)\n",
    "    return stack\n",
    "\n",
    "\n",
    "print('输入：', [-3, -6, 2, 8, 5, -8, 9, -2, 1])\n",
    "print('输出：', collision([-3, -6, 2, 8, 5, -8, 9, -2, 1]))\n",
    "print('输入：', [23, -8, 9, -3, -7, 9, -23, 22])\n",
    "print('输出：',collision([23, -8, 9, -3, -7, 9, -23, 22]))"
   ]
  },
  {
   "cell_type": "markdown",
   "metadata": {},
   "source": [
    "## 问题 5 \n",
    "\n",
    "> 给定一个无序数组nums=[9,-3,-10,0,9,7,33]，请建立一个二叉搜索树存储数组中的所有元素，之后删除二叉树中的元素“0”，再使用中序遍历输出二叉搜索树中的所有元素。\n",
    "\n",
    "使用python编程完成上述任务，并计算时间复杂度\n"
   ]
  },
  {
   "cell_type": "code",
   "execution_count": 7,
   "metadata": {},
   "outputs": [
    {
     "name": "stdout",
     "output_type": "stream",
     "text": [
      "输入： [9, -3, -10, 0, 9, 7, 33]\n",
      "输出：中序遍历结果: [-10, -3, 7, 9, 9, 33]\n"
     ]
    }
   ],
   "source": [
    "# add your idea here\n",
    "# your algorithm time complexity is:O(nlogn)（平均）或 O(n²)（最坏）\n",
    "class TreeNode:\n",
    "    def __init__(self, val=0, left=None, right=None):\n",
    "        self.val = val\n",
    "        self.left = left\n",
    "        self.right = right\n",
    "\n",
    "def insert(root, val):\n",
    "    if root is None:\n",
    "        return TreeNode(val)\n",
    "    if val < root.val:\n",
    "        root.left = insert(root.left, val)\n",
    "    else:\n",
    "        root.right = insert(root.right, val)\n",
    "    return root\n",
    "\n",
    "def delete(root, key):\n",
    "    if root is None:\n",
    "        return root\n",
    "    if key < root.val:\n",
    "        root.left = delete(root.left, key)\n",
    "    elif key > root.val:\n",
    "        root.right = delete(root.right, key)\n",
    "    else:\n",
    "        if root.left is None:\n",
    "            return root.right\n",
    "        elif root.right is None:\n",
    "            return root.left\n",
    "        temp = find(root.right)\n",
    "        root.val = temp.val\n",
    "        root.right = delete(root.right, temp.val)\n",
    "    return root\n",
    "\n",
    "def find(node):\n",
    "    while node.left is not None:\n",
    "        node = node.left\n",
    "    return node\n",
    "\n",
    "def traversal(root):\n",
    "    result = []\n",
    "    if root:\n",
    "        result = traversal(root.left)\n",
    "        result.append(root.val)\n",
    "        result = result + traversal(root.right)\n",
    "    return result\n",
    "\n",
    "\n",
    "nums = [9, -3, -10, 0, 9, 7, 33]\n",
    "root = None\n",
    "for num in nums:\n",
    "    root = insert(root, num)\n",
    "root = delete(root, 0)\n",
    "print('输入：', nums)\n",
    "print(\"输出：中序遍历结果:\", traversal(root))"
   ]
  },
  {
   "cell_type": "markdown",
   "metadata": {},
   "source": [
    "## 问题 6  \n",
    "\n",
    "> 给定一个包含大写字母和小写字母的字符串 s ，返回 字符串包含的 **最长的回文子串的长度** 。请注意 区分大小写 。比如 \"Aa\" 不能当做一个回文字符串。\n",
    ">\n",
    "\n",
    "请设计一个算法解决上述问题，只需要输出最长回文子串的长度，分析算法设计思路，计算时间复杂度，并基于python编程实现\n",
    "\n",
    "e.g. 输入： s=\"adccaccd\"，  输出：7。 最长回文子串为：\"dccaccd\", 长度为7\n"
   ]
  },
  {
   "cell_type": "markdown",
   "metadata": {},
   "source": [
    "idea：\n",
    "1.遍历每个字符，从字符为中心向两边扩展，检查是否构成回文。\n",
    "2.奇数长度：以单个字符为中心。偶数长度：以两个相邻字符为中心。\n",
    "3.得到最大长度。"
   ]
  },
  {
   "cell_type": "code",
   "execution_count": 8,
   "metadata": {},
   "outputs": [
    {
     "name": "stdout",
     "output_type": "stream",
     "text": [
      "输入 adccaccd\n",
      "输出： 7\n"
     ]
    }
   ],
   "source": [
    "# add your idea here\n",
    "# your algorithm time complexity is:O (n²)\n",
    "def palindrome(s):\n",
    "    if not s:\n",
    "        return 0\n",
    "    max_length = 0\n",
    "    n = len(s)\n",
    "    for i in range(n):\n",
    "        left, right = i, i\n",
    "        while left >= 0 and right < n and s[left] == s[right]:\n",
    "            current_length = right - left + 1\n",
    "            if current_length > max_length:\n",
    "                max_length = current_length\n",
    "            left -= 1\n",
    "            right += 1\n",
    "        left, right = i, i + 1\n",
    "        while left >= 0 and right < n and s[left] == s[right]:\n",
    "            current_length = right - left + 1\n",
    "            if current_length > max_length:\n",
    "                max_length = current_length\n",
    "            left -= 1\n",
    "            right += 1\n",
    "    return max_length\n",
    "\n",
    "\n",
    "s = \"adccaccd\"\n",
    "print('输入', s)\n",
    "print('输出：',palindrome(s))"
   ]
  },
  {
   "cell_type": "markdown",
   "metadata": {},
   "source": [
    "## 问题 7 \n",
    "\n",
    "> 沿一条长河流分散着n座房子。你可以把这条河想象成一条轴，房子是由它们在这条轴上的坐标按顺序排列的。你的公司想在河边的特定地点设置手机基站，这样每户人家都在距离基站4公里的范围内。输入可以看作为一个升序数组，数组元素的取值为大于等于0的正整数，你需要输出最小基站的数目，基站的位置。\n",
    "\n",
    "1. 给出一个时间复杂度为$O(n$) 的算法，使所使用的基站数量最小化，分析算法设计思路，使用python编程实现\n",
    "2. 证明1.中算法产生了最优解决方案。\n",
    "\n",
    "e.g. \n",
    "\n",
    "输入： [1, 5, 12, 33, 34,35]  输出：基站数目为3， 基站位置为[1，12，33]\n",
    "\n"
   ]
  },
  {
   "cell_type": "markdown",
   "metadata": {},
   "source": [
    "idea：\n",
    "1.将第一个基站放置在第一个房子的位置。\n",
    "2.遍历房子：对于每个后续的房子，当它距离当前最后一个基站的距离超过 4 公里，则新增一个基站。\n",
    "3.确定新基站位置：当需要新增基站时，将其放置在当前房子的位置，以覆盖尽可能多的后续房子。"
   ]
  },
  {
   "cell_type": "code",
   "execution_count": 10,
   "metadata": {},
   "outputs": [
    {
     "name": "stdout",
     "output_type": "stream",
     "text": [
      "输入： [1, 5, 12, 33, 34, 35]\n",
      "输出：基站数目为3，基站位置为[1, 12, 33]\n"
     ]
    }
   ],
   "source": [
    "# add your idea here\n",
    "# your algorithm time complexity is:O (n)\n",
    "def stations(houses):\n",
    "    if not houses:\n",
    "        return 0, []\n",
    "    n = len(houses)\n",
    "    base_stations = [houses[0]]\n",
    "    for i in range(1, n):\n",
    "        if houses[i] - base_stations[-1] > 4:\n",
    "            base_stations.append(houses[i])\n",
    "\n",
    "    return len(base_stations), base_stations\n",
    "\n",
    "\n",
    "houses = [1, 5, 12, 33, 34, 35]\n",
    "count, positions = stations(houses)\n",
    "print('输入：', houses)\n",
    "print(f\"输出：基站数目为{count}，基站位置为{positions}\")"
   ]
  },
  {
   "cell_type": "markdown",
   "metadata": {},
   "source": [
    "idea2：\n",
    "反证法：假设存在一个更优的解，使用的基站数目比我们的算法更少。第一个与我们算法选择不同的基站位置，如果这个位置更早，它覆盖的房子不会比我们的算法多；如果更晚，则可能无法覆盖某些房子。因此，这样的解不存在。所以，该贪心算法能够产生最优解。"
   ]
  },
  {
   "cell_type": "markdown",
   "metadata": {},
   "source": [
    "## 问题 8  \n",
    "\n",
    "> 给定由n个正整数组成的一个集合$S = \\{a_1, a_2，···，a_n\\}$和一个正整数W，设计一个算法确定是否存在S的一个子集 $K \\subseteq S$, 使K中所有数之和为 $W$, 如果存在返回“True”，否则返回“False”\n",
    "\n",
    "请设计一个时间复杂度为$O(nW)$动态规划算法，解决上述问题，分析算法的设计思路，并且基于python编程实现（不需要输出子集）。\n",
    "\n",
    "e.g. \n",
    "\n",
    "输入：S = {1,4,7,3,5}， W = 11，输出：True。   因为K可以是{4,7}。\n",
    "\n"
   ]
  },
  {
   "cell_type": "markdown",
   "metadata": {},
   "source": [
    "idea：\n",
    "动态规划的核心思想是构造一个二维布尔数组dp，dp[i][w]表示集合 S 的前 i 个元素中是否存在一个子集，和为 w。\n",
    "\n",
    "1.初始化：dp[0][0]设为 True，其他dp[0][w]（w > 0）设为 False，没有元素时无法组成非零和。\n",
    "2.状态转移：对于每个元素a_i（从 1 到 n）和每个可能的和 w（从 0 到 W），有两种情况：不选择当前元素a_i，则dp[i][w] = dp[i-1][w]。选择当前元素a_i，前提是w >= a_i，则dp[i][w] = dp[i-1][w - a_i]。\n",
    "3.dp[n][W]是最终结果。"
   ]
  },
  {
   "cell_type": "code",
   "execution_count": 9,
   "metadata": {},
   "outputs": [
    {
     "name": "stdout",
     "output_type": "stream",
     "text": [
      "输入：S= [1, 4, 7, 3, 5] W= 11\n",
      "输出： True\n"
     ]
    }
   ],
   "source": [
    "# add your idea here\n",
    "# your algorithm time complexity is: O(nW)\n",
    "def sum(S, W):\n",
    "    n = len(S)\n",
    "    dp = [[False] * (W + 1) for _ in range(n + 1)]\n",
    "    dp[0][0] = True\n",
    "    for i in range(1, n + 1):\n",
    "        for w in range(W + 1):\n",
    "            dp[i][w] = dp[i - 1][w]\n",
    "            if w >= S[i - 1]:\n",
    "                dp[i][w] = dp[i][w] or dp[i - 1][w - S[i - 1]]\n",
    "    return dp[n][W]\n",
    "\n",
    "\n",
    "S = [1, 4, 7, 3, 5]\n",
    "W = 11\n",
    "print('输入：S=', S,'W=', W)\n",
    "print('输出：', sum(S, W))"
   ]
  },
  {
   "cell_type": "markdown",
   "metadata": {},
   "source": [
    "\n",
    "\n",
    "## 问题 9 \n",
    "\n",
    "> 给定一个n个物品的集合。物体的重量为$w_1, w_2，…、w_n$，物品的价值分别是$v_1、v_2、…v_n$。给你**两个**重量为 $c$ 的背包。如果你带了一个东西，它可以放在一个背包里，也可以放在另一个背包里，但不能同时放在两个背包里。所有权重和价值都是正整数。\n",
    "\n",
    "1. 设计一个时间复杂度为 $O(nc^2)$ 的动态规划算法，确定可以放入两个背包的物体的最大价值。分析算法设计思路，并基于python编程实现\n",
    "2. \\* 修改1中的算法，输出每个背包的内容（物品对应下标）。\n",
    "\n",
    "e.g.: \n",
    "\n",
    "输入 V=[1,3,2,5,8,7], W=[1,3,2,5,8,7], c=7, 输出：最大价值=14，背包装的物品为：[6] [4，3] （同一个背包中物品装入顺序对结果无影响）  \n"
   ]
  },
  {
   "cell_type": "markdown",
   "metadata": {},
   "source": [
    "idea：\n",
    "使用三维动态规划数组dp[i][used1][used2]来表示前 i 个物品放入两个背包，第一个背包已使用容量为used1，第二个背包已使用容量为used2时的最大价值。\n",
    "状态转移时的三种情况：\n",
    "\n",
    "1.不选当前物品：dp[i][used1][used2] = dp[i-1][used1][used2]\n",
    "2.放入第一个背包：如果used1 + w[i-1] <= c，则dp[i][used1 + w[i-1]][used2] = max(dp[i][used1 + w[i-1]][used2], dp[i-1][used1][used2] + v[i-1])\n",
    "3.放入第二个背包：如果used2 + w[i-1] <= c，则dp[i][used1][used2 + w[i-1]] = max(dp[i][used1][used2 + w[i-1]], dp[i-1][used1][used2] + v[i-1])\n",
    "最终最大价值是所有可能的used1和used2组合中的最大值。"
   ]
  },
  {
   "cell_type": "code",
   "execution_count": 11,
   "metadata": {},
   "outputs": [
    {
     "name": "stdout",
     "output_type": "stream",
     "text": [
      "输入：V= [1, 3, 2, 5, 8, 7] W= [1, 3, 2, 5, 8, 7] c= 7\n",
      "输出：最大价值=14\n"
     ]
    }
   ],
   "source": [
    "# add your idea here\n",
    "# your algorithm time complexity is: O(nc^2)\n",
    "def maxvalue(V, W, c):\n",
    "    n = len(V)\n",
    "    dp = [[[0 for _ in range(c + 1)] for __ in range(c + 1)] for ___ in range(n + 1)]\n",
    "    for i in range(1, n + 1):\n",
    "        for used1 in range(c + 1):\n",
    "            for used2 in range(c + 1):\n",
    "                dp[i][used1][used2] = dp[i - 1][used1][used2]\n",
    "                if used1 >= W[i - 1]:\n",
    "                    dp[i][used1][used2] = max(dp[i][used1][used2],\n",
    "                                              dp[i - 1][used1 - W[i - 1]][used2] + V[i - 1])\n",
    "                if used2 >= W[i - 1]:\n",
    "                    dp[i][used1][used2] = max(dp[i][used1][used2],\n",
    "                                              dp[i - 1][used1][used2 - W[i - 1]] + V[i - 1])\n",
    "    max_val = 0\n",
    "    for used1 in range(c + 1):\n",
    "        for used2 in range(c + 1):\n",
    "            if dp[n][used1][used2] > max_val:\n",
    "                max_val = dp[n][used1][used2]\n",
    "    return max_val\n",
    "\n",
    "\n",
    "V = [1, 3, 2, 5, 8, 7]\n",
    "W = [1, 3, 2, 5, 8, 7]\n",
    "c = 7\n",
    "print('输入：V=', V, 'W=', W, 'c=', c)\n",
    "print(f\"输出：最大价值={maxvalue(V, W, c)}\")"
   ]
  },
  {
   "cell_type": "code",
   "execution_count": 12,
   "metadata": {},
   "outputs": [
    {
     "name": "stdout",
     "output_type": "stream",
     "text": [
      "输入：V= [1, 3, 2, 5, 8, 7] W= [1, 3, 2, 5, 8, 7] c= 7\n",
      "最大价值=14，背包装的物品为：[6] [3, 4]\n"
     ]
    }
   ],
   "source": [
    "# add your idea here\n",
    "# your algorithm time complexity is: O(nc^2)\n",
    "def finditems(V, W, c):\n",
    "    n = len(V)\n",
    "    dp = [[[0 for _ in range(c + 1)] for __ in range(c + 1)] for ___ in range(n + 1)]\n",
    "    choice = [[[0 for _ in range(c + 1)] for __ in range(c + 1)] for ___ in range(n + 1)]\n",
    "    for i in range(1, n + 1):\n",
    "        for used1 in range(c + 1):\n",
    "            for used2 in range(c + 1):\n",
    "                dp[i][used1][used2] = dp[i - 1][used1][used2]\n",
    "                choice[i][used1][used2] = 0\n",
    "                if used1 >= W[i - 1] and dp[i - 1][used1 - W[i - 1]][used2] + V[i - 1] > dp[i][used1][used2]:\n",
    "                    dp[i][used1][used2] = dp[i - 1][used1 - W[i - 1]][used2] + V[i - 1]\n",
    "                    choice[i][used1][used2] = 1\n",
    "                if used2 >= W[i - 1] and dp[i - 1][used1][used2 - W[i - 1]] + V[i - 1] > dp[i][used1][used2]:\n",
    "                    dp[i][used1][used2] = dp[i - 1][used1][used2 - W[i - 1]] + V[i - 1]\n",
    "                    choice[i][used1][used2] = 2\n",
    "    max_val = 0\n",
    "    best_used1, best_used2 = 0, 0\n",
    "    for used1 in range(c + 1):\n",
    "        for used2 in range(c + 1):\n",
    "            if dp[n][used1][used2] > max_val:\n",
    "                max_val = dp[n][used1][used2]\n",
    "                best_used1, best_used2 = used1, used2\n",
    "    items1 = []\n",
    "    items2 = []\n",
    "    used1, used2 = best_used1, best_used2\n",
    "    for i in range(n, 0, -1):\n",
    "        ch = choice[i][used1][used2]\n",
    "        if ch == 1:\n",
    "            items1.append(i)  # 物品下标从1开始\n",
    "            used1 -= W[i - 1]\n",
    "        elif ch == 2:\n",
    "            items2.append(i)\n",
    "            used2 -= W[i - 1]\n",
    "    items1 = sorted([x - 1 for x in items1])\n",
    "    items2 = sorted([x - 1 for x in items2])\n",
    "    return max_val, items1, items2\n",
    "\n",
    "\n",
    "V = [1, 3, 2, 5, 8, 7]\n",
    "W = [1, 3, 2, 5, 8, 7]\n",
    "c = 7\n",
    "max_val, items1, items2 = finditems(V, W, c)\n",
    "print('输入：V=', V, 'W=', W, 'c=', c)\n",
    "print(f\"最大价值={max_val}，背包装的物品为：{[x + 1 for x in items1]} {[x + 1 for x in items2]}\")"
   ]
  },
  {
   "cell_type": "markdown",
   "metadata": {},
   "source": [
    "## 问题 10 \n",
    "\n",
    "> 给定两个字符串 $x[1..n]$ 和 $y[1..m]$，我们想通过以下操作将 $x$ 变换为 $y$ :\n",
    ">\n",
    "> **插入**：在 $x$ 中插入一个字符(在任何位置)；**删除**：从 $x$ 中删除一个字符(在任何位置)； **替换**：用另一个字符替换 $x$ 中的一个字符。\n",
    ">\n",
    "> 例如: $x = abcd$, $y = bcfe$，\n",
    ">\n",
    "> - 将 $x$ 转换为 $y$ 的一种可能方法是：1. 删除 $x$ 开头的 $a$, $x$变成 $bcd$； 2. 将 $x$ 中的字符 $d$ 替换为字符 $f$。$x$ 变成 $bcf$； 3. 在 $x$ 的末尾插入字符 $e$。$x$ 变成 $bcfe$。\n",
    ">\n",
    "> - 另一种可能的方法：1. 删除 $x$ 开头的 $a$,  $x$ 变成 $bcd$； 2. 在 $x$ 中字符 $d$ 之前插入字符 $f$。$x$ 变成 $bcfd$。3. 将 $x$ 中的字符 $d$ 替换为字符 $e$。$x$ 变成 $bcfe$。\n",
    "\n",
    "设计一个时间复杂度为 $O(mn)$ 的算法，返回将 $x$ 转换为 $y$ 所需的最少操作次数。分析算法设计思路，并基于python编程实现。\n"
   ]
  },
  {
   "cell_type": "markdown",
   "metadata": {},
   "source": [
    "idea：\n",
    "使用动态规划来解决这个问题。定义dp[i][j]为将字符串 x 的前 i 个字符转换为字符串 y 的前 j 个字符所需的最少操作次数。\n",
    "状态转移方程如下：\n",
    "\n",
    "1.初始化：dp[0][j] = j：当 x 为空字符串时，需要 j 次插入操作。dp[i][0] = i：当 y 为空字符串时，需要 i 次删除操作。\n",
    "2.状态转移：如果x[i-1] == y[j-1]，则dp[i][j] = dp[i-1][j-1]。否则，dp[i][j]取以下三种操作的最小值加 1：\n",
    "删除：dp[i-1][j] + 1\n",
    "插入：dp[i][j-1] + 1\n",
    "替换：dp[i-1][j-1] + 1\n",
    "最终结果为dp[n][m]，其中 n 和 m 分别是字符串 x 和 y 的长度。"
   ]
  },
  {
   "cell_type": "code",
   "execution_count": 13,
   "metadata": {},
   "outputs": [
    {
     "name": "stdout",
     "output_type": "stream",
     "text": [
      "输入：x= abcd y= bcfe\n",
      "输出：转换为 'bcfe' 的最少操作次数为: 3\n"
     ]
    }
   ],
   "source": [
    "# add your idea here\n",
    "# your algorithm time complexity is: O(mn)\n",
    "def min_edit_distance_optimized(x, y):\n",
    "    n = len(x)\n",
    "    m = len(y)\n",
    "    prev = [j for j in range(m + 1)]\n",
    "    for i in range(1, n + 1):\n",
    "        curr = [0] * (m + 1)\n",
    "        curr[0] = i\n",
    "        for j in range(1, m + 1):\n",
    "            if x[i - 1] == y[j - 1]:\n",
    "                curr[j] = prev[j - 1]\n",
    "            else:\n",
    "                curr[j] = min(\n",
    "                    prev[j] + 1,\n",
    "                    curr[j - 1] + 1,\n",
    "                    prev[j - 1] + 1\n",
    "                )\n",
    "        prev = curr\n",
    "    return prev[m]\n",
    "\n",
    "\n",
    "x = \"abcd\"\n",
    "y = \"bcfe\"\n",
    "print('输入：x=',x, 'y=', y)\n",
    "print(f\"输出：转换为 '{y}' 的最少操作次数为: {min_edit_distance_optimized(x, y)}\")"
   ]
  },
  {
   "cell_type": "code",
   "execution_count": null,
   "metadata": {},
   "outputs": [],
   "source": []
  }
 ],
 "metadata": {
  "kernelspec": {
   "display_name": "Python 3 (ipykernel)",
   "language": "python",
   "name": "python3"
  },
  "language_info": {
   "codemirror_mode": {
    "name": "ipython",
    "version": 3
   },
   "file_extension": ".py",
   "mimetype": "text/x-python",
   "name": "python",
   "nbconvert_exporter": "python",
   "pygments_lexer": "ipython3",
   "version": "3.12.9"
  }
 },
 "nbformat": 4,
 "nbformat_minor": 4
}
